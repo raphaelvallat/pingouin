{
 "cells": [
  {
   "cell_type": "markdown",
   "metadata": {},
   "source": [
    "## Rounding\n",
    "\n",
    "This notebook shows the different ways that one can either round or change the display precision of Pingouin's output dataframes."
   ]
  },
  {
   "cell_type": "code",
   "execution_count": 1,
   "metadata": {},
   "outputs": [],
   "source": [
    "import pandas as pd\n",
    "import pingouin as pg\n",
    "\n",
    "x = [4, 5, 7, 4, 5, 6, 8, 9]\n",
    "y = [3, 4, 5, 3, 4, 5, 4, 3]"
   ]
  },
  {
   "cell_type": "markdown",
   "metadata": {},
   "source": [
    "### Method 1: Original (unrounded)\n",
    "\n",
    "By default, the values in Pingouin's dataframe outputs are stored in full precision, and displayed with a precision of 6 decimals."
   ]
  },
  {
   "cell_type": "code",
   "execution_count": 2,
   "metadata": {},
   "outputs": [
    {
     "data": {
      "text/plain": [
       "6"
      ]
     },
     "execution_count": 2,
     "metadata": {},
     "output_type": "execute_result"
    }
   ],
   "source": [
    "pd.get_option(\"display.precision\")"
   ]
  },
  {
   "cell_type": "code",
   "execution_count": 3,
   "metadata": {},
   "outputs": [
    {
     "data": {
      "text/html": [
       "<div>\n",
       "<style scoped>\n",
       "    .dataframe tbody tr th:only-of-type {\n",
       "        vertical-align: middle;\n",
       "    }\n",
       "\n",
       "    .dataframe tbody tr th {\n",
       "        vertical-align: top;\n",
       "    }\n",
       "\n",
       "    .dataframe thead th {\n",
       "        text-align: right;\n",
       "    }\n",
       "</style>\n",
       "<table border=\"1\" class=\"dataframe\">\n",
       "  <thead>\n",
       "    <tr style=\"text-align: right;\">\n",
       "      <th></th>\n",
       "      <th>n</th>\n",
       "      <th>r</th>\n",
       "      <th>CI95%</th>\n",
       "      <th>p-val</th>\n",
       "      <th>BF10</th>\n",
       "      <th>power</th>\n",
       "    </tr>\n",
       "  </thead>\n",
       "  <tbody>\n",
       "    <tr>\n",
       "      <th>pearson</th>\n",
       "      <td>8</td>\n",
       "      <td>0.1849</td>\n",
       "      <td>[-0.6, 0.79]</td>\n",
       "      <td>0.661133</td>\n",
       "      <td>0.468</td>\n",
       "      <td>0.071911</td>\n",
       "    </tr>\n",
       "  </tbody>\n",
       "</table>\n",
       "</div>"
      ],
      "text/plain": [
       "         n       r         CI95%     p-val   BF10     power\n",
       "pearson  8  0.1849  [-0.6, 0.79]  0.661133  0.468  0.071911"
      ]
     },
     "metadata": {},
     "output_type": "display_data"
    },
    {
     "name": "stdout",
     "output_type": "stream",
     "text": [
      "The full r value is 0.1849000654084097\n"
     ]
    }
   ],
   "source": [
    "corr = pg.corr(x, y)\n",
    "display(corr)\n",
    "print(\"The full r value is\", corr.at['pearson', 'r'])"
   ]
  },
  {
   "cell_type": "markdown",
   "metadata": {},
   "source": [
    "### Method 2: Using pandas.DataFrame.round()\n",
    "\n",
    "The easiest way to round Pingouin's output is to use the [pandas.DataFrame.round](https://pandas.pydata.org/pandas-docs/stable/reference/api/pandas.DataFrame.round.html) method, which will round all numeric columns to a specified number of decimals: "
   ]
  },
  {
   "cell_type": "code",
   "execution_count": 4,
   "metadata": {},
   "outputs": [
    {
     "data": {
      "text/html": [
       "<div>\n",
       "<style scoped>\n",
       "    .dataframe tbody tr th:only-of-type {\n",
       "        vertical-align: middle;\n",
       "    }\n",
       "\n",
       "    .dataframe tbody tr th {\n",
       "        vertical-align: top;\n",
       "    }\n",
       "\n",
       "    .dataframe thead th {\n",
       "        text-align: right;\n",
       "    }\n",
       "</style>\n",
       "<table border=\"1\" class=\"dataframe\">\n",
       "  <thead>\n",
       "    <tr style=\"text-align: right;\">\n",
       "      <th></th>\n",
       "      <th>n</th>\n",
       "      <th>r</th>\n",
       "      <th>CI95%</th>\n",
       "      <th>p-val</th>\n",
       "      <th>BF10</th>\n",
       "      <th>power</th>\n",
       "    </tr>\n",
       "  </thead>\n",
       "  <tbody>\n",
       "    <tr>\n",
       "      <th>pearson</th>\n",
       "      <td>8</td>\n",
       "      <td>0.185</td>\n",
       "      <td>[-0.6, 0.79]</td>\n",
       "      <td>0.661</td>\n",
       "      <td>0.468</td>\n",
       "      <td>0.072</td>\n",
       "    </tr>\n",
       "  </tbody>\n",
       "</table>\n",
       "</div>"
      ],
      "text/plain": [
       "         n      r         CI95%  p-val   BF10  power\n",
       "pearson  8  0.185  [-0.6, 0.79]  0.661  0.468  0.072"
      ]
     },
     "metadata": {},
     "output_type": "display_data"
    },
    {
     "name": "stdout",
     "output_type": "stream",
     "text": [
      "The full r value is 0.185\n"
     ]
    }
   ],
   "source": [
    "corr = pg.corr(x, y).round(3)\n",
    "display(corr)\n",
    "print(\"The full r value is\", corr.at['pearson', 'r'])"
   ]
  },
  {
   "cell_type": "markdown",
   "metadata": {},
   "source": [
    "### Method 3: Using Pingouin options\n",
    "\n",
    "If we don't want to use .round() every time, there is also a way to define a global rounding option directly in Pingouin. Furthermore, this rounding can be set to be column-specific, which is great when you want to round some columns but keep the full precision for others (e.g. p-values)."
   ]
  },
  {
   "cell_type": "code",
   "execution_count": 5,
   "metadata": {},
   "outputs": [
    {
     "data": {
      "text/plain": [
       "{'round': None,\n",
       " 'round.column.CI95%': 2,\n",
       " 'round.column.BF10': <function pingouin.bayesian._format_bf(bf, precision=3, trim='0')>}"
      ]
     },
     "execution_count": 5,
     "metadata": {},
     "output_type": "execute_result"
    }
   ],
   "source": [
    "# The default Pingouin options are:\n",
    "# 'round': None -> by default, no rounding is applied\n",
    "# 'round.column.CI95%': 2 -> except for the CI95% column, which is always rounded to 2 decimals\n",
    "# 'round.column.BF10': custom string formatting for the Bayes Factor column\n",
    "pg.options"
   ]
  },
  {
   "cell_type": "code",
   "execution_count": 6,
   "metadata": {},
   "outputs": [
    {
     "data": {
      "text/plain": [
       "{'round': 4,\n",
       " 'round.column.CI95%': 3,\n",
       " 'round.column.BF10': None,\n",
       " 'round.column.p-val': None}"
      ]
     },
     "execution_count": 6,
     "metadata": {},
     "output_type": "execute_result"
    }
   ],
   "source": [
    "pg.options['round'] = 4\n",
    "pg.options['round.column.CI95%'] = 3\n",
    "pg.options['round.column.p-val'] = None\n",
    "pg.options['round.column.BF10'] = None\n",
    "pg.options"
   ]
  },
  {
   "cell_type": "code",
   "execution_count": 7,
   "metadata": {},
   "outputs": [
    {
     "data": {
      "text/html": [
       "<div>\n",
       "<style scoped>\n",
       "    .dataframe tbody tr th:only-of-type {\n",
       "        vertical-align: middle;\n",
       "    }\n",
       "\n",
       "    .dataframe tbody tr th {\n",
       "        vertical-align: top;\n",
       "    }\n",
       "\n",
       "    .dataframe thead th {\n",
       "        text-align: right;\n",
       "    }\n",
       "</style>\n",
       "<table border=\"1\" class=\"dataframe\">\n",
       "  <thead>\n",
       "    <tr style=\"text-align: right;\">\n",
       "      <th></th>\n",
       "      <th>n</th>\n",
       "      <th>r</th>\n",
       "      <th>CI95%</th>\n",
       "      <th>p-val</th>\n",
       "      <th>BF10</th>\n",
       "      <th>power</th>\n",
       "    </tr>\n",
       "  </thead>\n",
       "  <tbody>\n",
       "    <tr>\n",
       "      <th>pearson</th>\n",
       "      <td>8</td>\n",
       "      <td>0.1849</td>\n",
       "      <td>[-0.598, 0.787]</td>\n",
       "      <td>0.661133</td>\n",
       "      <td>0.467674</td>\n",
       "      <td>0.0719</td>\n",
       "    </tr>\n",
       "  </tbody>\n",
       "</table>\n",
       "</div>"
      ],
      "text/plain": [
       "         n       r            CI95%     p-val      BF10   power\n",
       "pearson  8  0.1849  [-0.598, 0.787]  0.661133  0.467674  0.0719"
      ]
     },
     "metadata": {},
     "output_type": "display_data"
    },
    {
     "name": "stdout",
     "output_type": "stream",
     "text": [
      "The full r value is 0.1849\n"
     ]
    }
   ],
   "source": [
    "corr = pg.corr(x, y)\n",
    "display(corr)\n",
    "print(\"The full r value is\", corr.at['pearson', 'r'])"
   ]
  },
  {
   "cell_type": "code",
   "execution_count": 8,
   "metadata": {},
   "outputs": [
    {
     "data": {
      "text/plain": [
       "{'round': None,\n",
       " 'round.column.CI95%': 2,\n",
       " 'round.column.BF10': <function pingouin.bayesian._format_bf(bf, precision=3, trim='0')>}"
      ]
     },
     "execution_count": 8,
     "metadata": {},
     "output_type": "execute_result"
    }
   ],
   "source": [
    "# To reset the default options\n",
    "pg.set_default_options()\n",
    "pg.options"
   ]
  },
  {
   "cell_type": "markdown",
   "metadata": {},
   "source": [
    "### Method 4: Changing the display precision of Pandas dataframe\n",
    "\n",
    "An alternative to rounding is to change the display.precision option of Pandas. The main advantage is that it actually preserves the full float precision."
   ]
  },
  {
   "cell_type": "code",
   "execution_count": 9,
   "metadata": {},
   "outputs": [
    {
     "data": {
      "text/html": [
       "<div>\n",
       "<style scoped>\n",
       "    .dataframe tbody tr th:only-of-type {\n",
       "        vertical-align: middle;\n",
       "    }\n",
       "\n",
       "    .dataframe tbody tr th {\n",
       "        vertical-align: top;\n",
       "    }\n",
       "\n",
       "    .dataframe thead th {\n",
       "        text-align: right;\n",
       "    }\n",
       "</style>\n",
       "<table border=\"1\" class=\"dataframe\">\n",
       "  <thead>\n",
       "    <tr style=\"text-align: right;\">\n",
       "      <th></th>\n",
       "      <th>n</th>\n",
       "      <th>r</th>\n",
       "      <th>CI95%</th>\n",
       "      <th>p-val</th>\n",
       "      <th>BF10</th>\n",
       "      <th>power</th>\n",
       "    </tr>\n",
       "  </thead>\n",
       "  <tbody>\n",
       "    <tr>\n",
       "      <th>pearson</th>\n",
       "      <td>8</td>\n",
       "      <td>0.185</td>\n",
       "      <td>[-0.6, 0.79]</td>\n",
       "      <td>0.661</td>\n",
       "      <td>0.468</td>\n",
       "      <td>0.072</td>\n",
       "    </tr>\n",
       "  </tbody>\n",
       "</table>\n",
       "</div>"
      ],
      "text/plain": [
       "         n      r         CI95%  p-val   BF10  power\n",
       "pearson  8  0.185  [-0.6, 0.79]  0.661  0.468  0.072"
      ]
     },
     "metadata": {},
     "output_type": "display_data"
    },
    {
     "name": "stdout",
     "output_type": "stream",
     "text": [
      "The full r value is 0.1849000654084097\n"
     ]
    }
   ],
   "source": [
    "pd.set_option(\"display.precision\", 3)\n",
    "\n",
    "corr = pg.corr(x, y)\n",
    "display(corr)\n",
    "print(\"The full r value is\", corr.at['pearson', 'r'])"
   ]
  }
 ],
 "metadata": {
  "kernelspec": {
   "display_name": "Python 3",
   "language": "python",
   "name": "python3"
  },
  "language_info": {
   "codemirror_mode": {
    "name": "ipython",
    "version": 3
   },
   "file_extension": ".py",
   "mimetype": "text/x-python",
   "name": "python",
   "nbconvert_exporter": "python",
   "pygments_lexer": "ipython3",
   "version": "3.8.3"
  }
 },
 "nbformat": 4,
 "nbformat_minor": 4
}
