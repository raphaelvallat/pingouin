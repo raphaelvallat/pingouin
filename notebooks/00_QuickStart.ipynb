{
 "cells": [
  {
   "cell_type": "markdown",
   "metadata": {},
   "source": [
    "# 10 minutes to Pingouin\n",
    "\n",
    "## 1. T-test"
   ]
  },
  {
   "cell_type": "code",
   "execution_count": 1,
   "metadata": {},
   "outputs": [
    {
     "data": {
      "text/html": [
       "<div>\n",
       "<style scoped>\n",
       "    .dataframe tbody tr th:only-of-type {\n",
       "        vertical-align: middle;\n",
       "    }\n",
       "\n",
       "    .dataframe tbody tr th {\n",
       "        vertical-align: top;\n",
       "    }\n",
       "\n",
       "    .dataframe thead th {\n",
       "        text-align: right;\n",
       "    }\n",
       "</style>\n",
       "<table border=\"1\" class=\"dataframe\">\n",
       "  <thead>\n",
       "    <tr style=\"text-align: right;\">\n",
       "      <th></th>\n",
       "      <th>T</th>\n",
       "      <th>dof</th>\n",
       "      <th>alternative</th>\n",
       "      <th>p-val</th>\n",
       "      <th>CI95%</th>\n",
       "      <th>cohen-d</th>\n",
       "      <th>BF10</th>\n",
       "      <th>power</th>\n",
       "    </tr>\n",
       "  </thead>\n",
       "  <tbody>\n",
       "    <tr>\n",
       "      <th>T-test</th>\n",
       "      <td>-3.401</td>\n",
       "      <td>58</td>\n",
       "      <td>two-sided</td>\n",
       "      <td>0.001</td>\n",
       "      <td>[-1.68, -0.43]</td>\n",
       "      <td>0.878</td>\n",
       "      <td>26.155</td>\n",
       "      <td>0.917</td>\n",
       "    </tr>\n",
       "  </tbody>\n",
       "</table>\n",
       "</div>"
      ],
      "text/plain": [
       "            T  dof alternative  p-val           CI95%  cohen-d    BF10  power\n",
       "T-test -3.401   58   two-sided  0.001  [-1.68, -0.43]    0.878  26.155  0.917"
      ]
     },
     "execution_count": 1,
     "metadata": {},
     "output_type": "execute_result"
    }
   ],
   "source": [
    "import numpy as np\n",
    "import pandas as pd\n",
    "import pingouin as pg\n",
    "\n",
    "# Set the default Pandas float precision to 3 decimals\n",
    "pd.set_option(\"display.precision\", 3)\n",
    "\n",
    "np.random.seed(123)\n",
    "mean, cov, n = [4, 5], [(1, .6), (.6, 1)], 30\n",
    "x, y = np.random.multivariate_normal(mean, cov, n).T\n",
    "\n",
    "# T-test\n",
    "pg.ttest(x, y)"
   ]
  },
  {
   "cell_type": "markdown",
   "metadata": {},
   "source": [
    "## 2. Pearson's correlation"
   ]
  },
  {
   "cell_type": "code",
   "execution_count": 2,
   "metadata": {},
   "outputs": [
    {
     "data": {
      "text/html": [
       "<div>\n",
       "<style scoped>\n",
       "    .dataframe tbody tr th:only-of-type {\n",
       "        vertical-align: middle;\n",
       "    }\n",
       "\n",
       "    .dataframe tbody tr th {\n",
       "        vertical-align: top;\n",
       "    }\n",
       "\n",
       "    .dataframe thead th {\n",
       "        text-align: right;\n",
       "    }\n",
       "</style>\n",
       "<table border=\"1\" class=\"dataframe\">\n",
       "  <thead>\n",
       "    <tr style=\"text-align: right;\">\n",
       "      <th></th>\n",
       "      <th>n</th>\n",
       "      <th>r</th>\n",
       "      <th>CI95%</th>\n",
       "      <th>p-val</th>\n",
       "      <th>BF10</th>\n",
       "      <th>power</th>\n",
       "    </tr>\n",
       "  </thead>\n",
       "  <tbody>\n",
       "    <tr>\n",
       "      <th>pearson</th>\n",
       "      <td>30</td>\n",
       "      <td>0.595</td>\n",
       "      <td>[0.3, 0.79]</td>\n",
       "      <td>5.274e-04</td>\n",
       "      <td>69.723</td>\n",
       "      <td>0.95</td>\n",
       "    </tr>\n",
       "  </tbody>\n",
       "</table>\n",
       "</div>"
      ],
      "text/plain": [
       "          n      r        CI95%      p-val    BF10  power\n",
       "pearson  30  0.595  [0.3, 0.79]  5.274e-04  69.723   0.95"
      ]
     },
     "execution_count": 2,
     "metadata": {},
     "output_type": "execute_result"
    }
   ],
   "source": [
    "pg.corr(x, y)"
   ]
  },
  {
   "cell_type": "markdown",
   "metadata": {},
   "source": [
    "## 3. Robust correlation"
   ]
  },
  {
   "cell_type": "code",
   "execution_count": 3,
   "metadata": {},
   "outputs": [
    {
     "data": {
      "text/html": [
       "<div>\n",
       "<style scoped>\n",
       "    .dataframe tbody tr th:only-of-type {\n",
       "        vertical-align: middle;\n",
       "    }\n",
       "\n",
       "    .dataframe tbody tr th {\n",
       "        vertical-align: top;\n",
       "    }\n",
       "\n",
       "    .dataframe thead th {\n",
       "        text-align: right;\n",
       "    }\n",
       "</style>\n",
       "<table border=\"1\" class=\"dataframe\">\n",
       "  <thead>\n",
       "    <tr style=\"text-align: right;\">\n",
       "      <th></th>\n",
       "      <th>n</th>\n",
       "      <th>r</th>\n",
       "      <th>CI95%</th>\n",
       "      <th>p-val</th>\n",
       "      <th>power</th>\n",
       "    </tr>\n",
       "  </thead>\n",
       "  <tbody>\n",
       "    <tr>\n",
       "      <th>bicor</th>\n",
       "      <td>30</td>\n",
       "      <td>0.576</td>\n",
       "      <td>[0.27, 0.78]</td>\n",
       "      <td>8.694e-04</td>\n",
       "      <td>0.933</td>\n",
       "    </tr>\n",
       "  </tbody>\n",
       "</table>\n",
       "</div>"
      ],
      "text/plain": [
       "        n      r         CI95%      p-val  power\n",
       "bicor  30  0.576  [0.27, 0.78]  8.694e-04  0.933"
      ]
     },
     "execution_count": 3,
     "metadata": {},
     "output_type": "execute_result"
    }
   ],
   "source": [
    "# Introduce an outlier\n",
    "x[5] = 18\n",
    "# Use the robust biweight midcorrelation\n",
    "pg.corr(x, y, method=\"bicor\")"
   ]
  },
  {
   "cell_type": "markdown",
   "metadata": {},
   "source": [
    "## 4. Test the normality of the data"
   ]
  },
  {
   "cell_type": "code",
   "execution_count": 4,
   "metadata": {},
   "outputs": [
    {
     "data": {
      "text/html": [
       "<div>\n",
       "<style scoped>\n",
       "    .dataframe tbody tr th:only-of-type {\n",
       "        vertical-align: middle;\n",
       "    }\n",
       "\n",
       "    .dataframe tbody tr th {\n",
       "        vertical-align: top;\n",
       "    }\n",
       "\n",
       "    .dataframe thead th {\n",
       "        text-align: right;\n",
       "    }\n",
       "</style>\n",
       "<table border=\"1\" class=\"dataframe\">\n",
       "  <thead>\n",
       "    <tr style=\"text-align: right;\">\n",
       "      <th></th>\n",
       "      <th>W</th>\n",
       "      <th>pval</th>\n",
       "      <th>normal</th>\n",
       "    </tr>\n",
       "  </thead>\n",
       "  <tbody>\n",
       "    <tr>\n",
       "      <th>0</th>\n",
       "      <td>0.615</td>\n",
       "      <td>1.128e-07</td>\n",
       "      <td>False</td>\n",
       "    </tr>\n",
       "  </tbody>\n",
       "</table>\n",
       "</div>"
      ],
      "text/plain": [
       "       W       pval  normal\n",
       "0  0.615  1.128e-07   False"
      ]
     },
     "metadata": {},
     "output_type": "display_data"
    },
    {
     "data": {
      "text/plain": [
       "HZResults(hz=1.6967733646126668, pval=0.00018201726664169367, normal=False)"
      ]
     },
     "execution_count": 4,
     "metadata": {},
     "output_type": "execute_result"
    }
   ],
   "source": [
    "display(pg.normality(x))                                    # Univariate normality\n",
    "pg.multivariate_normality(np.column_stack((x, y)))          # Multivariate normality"
   ]
  },
  {
   "cell_type": "markdown",
   "metadata": {},
   "source": [
    "## 5. One-way ANOVA using a pandas DataFrame"
   ]
  },
  {
   "cell_type": "code",
   "execution_count": 5,
   "metadata": {},
   "outputs": [
    {
     "data": {
      "text/html": [
       "<div>\n",
       "<style scoped>\n",
       "    .dataframe tbody tr th:only-of-type {\n",
       "        vertical-align: middle;\n",
       "    }\n",
       "\n",
       "    .dataframe tbody tr th {\n",
       "        vertical-align: top;\n",
       "    }\n",
       "\n",
       "    .dataframe thead th {\n",
       "        text-align: right;\n",
       "    }\n",
       "</style>\n",
       "<table border=\"1\" class=\"dataframe\">\n",
       "  <thead>\n",
       "    <tr style=\"text-align: right;\">\n",
       "      <th></th>\n",
       "      <th>Source</th>\n",
       "      <th>SS</th>\n",
       "      <th>DF</th>\n",
       "      <th>MS</th>\n",
       "      <th>F</th>\n",
       "      <th>p-unc</th>\n",
       "      <th>np2</th>\n",
       "    </tr>\n",
       "  </thead>\n",
       "  <tbody>\n",
       "    <tr>\n",
       "      <th>0</th>\n",
       "      <td>Group</td>\n",
       "      <td>5.460</td>\n",
       "      <td>1</td>\n",
       "      <td>5.460</td>\n",
       "      <td>5.244</td>\n",
       "      <td>0.023</td>\n",
       "      <td>0.029</td>\n",
       "    </tr>\n",
       "    <tr>\n",
       "      <th>1</th>\n",
       "      <td>Within</td>\n",
       "      <td>185.343</td>\n",
       "      <td>178</td>\n",
       "      <td>1.041</td>\n",
       "      <td>NaN</td>\n",
       "      <td>NaN</td>\n",
       "      <td>NaN</td>\n",
       "    </tr>\n",
       "  </tbody>\n",
       "</table>\n",
       "</div>"
      ],
      "text/plain": [
       "   Source       SS   DF     MS      F  p-unc    np2\n",
       "0   Group    5.460    1  5.460  5.244  0.023  0.029\n",
       "1  Within  185.343  178  1.041    NaN    NaN    NaN"
      ]
     },
     "execution_count": 5,
     "metadata": {},
     "output_type": "execute_result"
    }
   ],
   "source": [
    "# Read an example dataset\n",
    "df = pg.read_dataset('mixed_anova')\n",
    "\n",
    "# Run the ANOVA\n",
    "aov = pg.anova(data=df, dv='Scores', between='Group', detailed=True)\n",
    "aov"
   ]
  },
  {
   "cell_type": "markdown",
   "metadata": {},
   "source": [
    "## 6. Repeated measures ANOVA"
   ]
  },
  {
   "cell_type": "code",
   "execution_count": 6,
   "metadata": {},
   "outputs": [
    {
     "data": {
      "text/html": [
       "<div>\n",
       "<style scoped>\n",
       "    .dataframe tbody tr th:only-of-type {\n",
       "        vertical-align: middle;\n",
       "    }\n",
       "\n",
       "    .dataframe tbody tr th {\n",
       "        vertical-align: top;\n",
       "    }\n",
       "\n",
       "    .dataframe thead th {\n",
       "        text-align: right;\n",
       "    }\n",
       "</style>\n",
       "<table border=\"1\" class=\"dataframe\">\n",
       "  <thead>\n",
       "    <tr style=\"text-align: right;\">\n",
       "      <th></th>\n",
       "      <th>Source</th>\n",
       "      <th>SS</th>\n",
       "      <th>DF</th>\n",
       "      <th>MS</th>\n",
       "      <th>F</th>\n",
       "      <th>p-unc</th>\n",
       "      <th>ng2</th>\n",
       "      <th>eps</th>\n",
       "    </tr>\n",
       "  </thead>\n",
       "  <tbody>\n",
       "    <tr>\n",
       "      <th>0</th>\n",
       "      <td>Time</td>\n",
       "      <td>7.628</td>\n",
       "      <td>2</td>\n",
       "      <td>3.814</td>\n",
       "      <td>3.913</td>\n",
       "      <td>0.023</td>\n",
       "      <td>0.04</td>\n",
       "      <td>0.999</td>\n",
       "    </tr>\n",
       "    <tr>\n",
       "      <th>1</th>\n",
       "      <td>Error</td>\n",
       "      <td>115.027</td>\n",
       "      <td>118</td>\n",
       "      <td>0.975</td>\n",
       "      <td>NaN</td>\n",
       "      <td>NaN</td>\n",
       "      <td>NaN</td>\n",
       "      <td>NaN</td>\n",
       "    </tr>\n",
       "  </tbody>\n",
       "</table>\n",
       "</div>"
      ],
      "text/plain": [
       "  Source       SS   DF     MS      F  p-unc   ng2    eps\n",
       "0   Time    7.628    2  3.814  3.913  0.023  0.04  0.999\n",
       "1  Error  115.027  118  0.975    NaN    NaN   NaN    NaN"
      ]
     },
     "execution_count": 6,
     "metadata": {},
     "output_type": "execute_result"
    }
   ],
   "source": [
    "pg.rm_anova(data=df, dv='Scores', within='Time', subject='Subject', detailed=True)"
   ]
  },
  {
   "cell_type": "markdown",
   "metadata": {},
   "source": [
    "## 7. Post-hoc tests corrected for multiple-comparisons"
   ]
  },
  {
   "cell_type": "code",
   "execution_count": 7,
   "metadata": {},
   "outputs": [
    {
     "data": {
      "text/html": [
       "<div>\n",
       "<style scoped>\n",
       "    .dataframe tbody tr th:only-of-type {\n",
       "        vertical-align: middle;\n",
       "    }\n",
       "\n",
       "    .dataframe tbody tr th {\n",
       "        vertical-align: top;\n",
       "    }\n",
       "\n",
       "    .dataframe thead th {\n",
       "        text-align: right;\n",
       "    }\n",
       "</style>\n",
       "<table border=\"1\" class=\"dataframe\">\n",
       "  <thead>\n",
       "    <tr style=\"text-align: right;\">\n",
       "      <th></th>\n",
       "      <th>Contrast</th>\n",
       "      <th>A</th>\n",
       "      <th>B</th>\n",
       "      <th>Paired</th>\n",
       "      <th>Parametric</th>\n",
       "      <th>T</th>\n",
       "      <th>dof</th>\n",
       "      <th>alternative</th>\n",
       "      <th>p-unc</th>\n",
       "      <th>p-corr</th>\n",
       "      <th>p-adjust</th>\n",
       "      <th>BF10</th>\n",
       "      <th>hedges</th>\n",
       "    </tr>\n",
       "  </thead>\n",
       "  <tbody>\n",
       "    <tr>\n",
       "      <th>0</th>\n",
       "      <td>Time</td>\n",
       "      <td>August</td>\n",
       "      <td>January</td>\n",
       "      <td>True</td>\n",
       "      <td>True</td>\n",
       "      <td>-1.740</td>\n",
       "      <td>59.0</td>\n",
       "      <td>two-sided</td>\n",
       "      <td>0.087</td>\n",
       "      <td>0.131</td>\n",
       "      <td>fdr_bh</td>\n",
       "      <td>0.582</td>\n",
       "      <td>-0.328</td>\n",
       "    </tr>\n",
       "    <tr>\n",
       "      <th>1</th>\n",
       "      <td>Time</td>\n",
       "      <td>August</td>\n",
       "      <td>June</td>\n",
       "      <td>True</td>\n",
       "      <td>True</td>\n",
       "      <td>-2.743</td>\n",
       "      <td>59.0</td>\n",
       "      <td>two-sided</td>\n",
       "      <td>0.008</td>\n",
       "      <td>0.024</td>\n",
       "      <td>fdr_bh</td>\n",
       "      <td>4.232</td>\n",
       "      <td>-0.483</td>\n",
       "    </tr>\n",
       "    <tr>\n",
       "      <th>2</th>\n",
       "      <td>Time</td>\n",
       "      <td>January</td>\n",
       "      <td>June</td>\n",
       "      <td>True</td>\n",
       "      <td>True</td>\n",
       "      <td>-1.024</td>\n",
       "      <td>59.0</td>\n",
       "      <td>two-sided</td>\n",
       "      <td>0.310</td>\n",
       "      <td>0.310</td>\n",
       "      <td>fdr_bh</td>\n",
       "      <td>0.232</td>\n",
       "      <td>-0.170</td>\n",
       "    </tr>\n",
       "  </tbody>\n",
       "</table>\n",
       "</div>"
      ],
      "text/plain": [
       "  Contrast        A        B  Paired  Parametric      T   dof alternative  \\\n",
       "0     Time   August  January    True        True -1.740  59.0   two-sided   \n",
       "1     Time   August     June    True        True -2.743  59.0   two-sided   \n",
       "2     Time  January     June    True        True -1.024  59.0   two-sided   \n",
       "\n",
       "   p-unc  p-corr p-adjust   BF10  hedges  \n",
       "0  0.087   0.131   fdr_bh  0.582  -0.328  \n",
       "1  0.008   0.024   fdr_bh  4.232  -0.483  \n",
       "2  0.310   0.310   fdr_bh  0.232  -0.170  "
      ]
     },
     "execution_count": 7,
     "metadata": {},
     "output_type": "execute_result"
    }
   ],
   "source": [
    "# FDR-corrected post hocs with Hedges'g effect size\n",
    "posthoc = pg.pairwise_tests(data=df, dv='Scores', within='Time', subject='Subject', \n",
    "                             parametric=True, padjust='fdr_bh', effsize='hedges')\n",
    "\n",
    "posthoc"
   ]
  },
  {
   "cell_type": "markdown",
   "metadata": {},
   "source": [
    "**Non-parametric version (= pairwise wilcoxon tests)**"
   ]
  },
  {
   "cell_type": "code",
   "execution_count": 8,
   "metadata": {},
   "outputs": [
    {
     "data": {
      "text/html": [
       "<div>\n",
       "<style scoped>\n",
       "    .dataframe tbody tr th:only-of-type {\n",
       "        vertical-align: middle;\n",
       "    }\n",
       "\n",
       "    .dataframe tbody tr th {\n",
       "        vertical-align: top;\n",
       "    }\n",
       "\n",
       "    .dataframe thead th {\n",
       "        text-align: right;\n",
       "    }\n",
       "</style>\n",
       "<table border=\"1\" class=\"dataframe\">\n",
       "  <thead>\n",
       "    <tr style=\"text-align: right;\">\n",
       "      <th></th>\n",
       "      <th>Contrast</th>\n",
       "      <th>A</th>\n",
       "      <th>B</th>\n",
       "      <th>Paired</th>\n",
       "      <th>Parametric</th>\n",
       "      <th>W-val</th>\n",
       "      <th>alternative</th>\n",
       "      <th>p-unc</th>\n",
       "      <th>p-corr</th>\n",
       "      <th>p-adjust</th>\n",
       "      <th>hedges</th>\n",
       "    </tr>\n",
       "  </thead>\n",
       "  <tbody>\n",
       "    <tr>\n",
       "      <th>0</th>\n",
       "      <td>Time</td>\n",
       "      <td>August</td>\n",
       "      <td>January</td>\n",
       "      <td>True</td>\n",
       "      <td>False</td>\n",
       "      <td>716.0</td>\n",
       "      <td>two-sided</td>\n",
       "      <td>0.144</td>\n",
       "      <td>0.216</td>\n",
       "      <td>fdr_bh</td>\n",
       "      <td>-0.328</td>\n",
       "    </tr>\n",
       "    <tr>\n",
       "      <th>1</th>\n",
       "      <td>Time</td>\n",
       "      <td>August</td>\n",
       "      <td>June</td>\n",
       "      <td>True</td>\n",
       "      <td>False</td>\n",
       "      <td>564.0</td>\n",
       "      <td>two-sided</td>\n",
       "      <td>0.010</td>\n",
       "      <td>0.030</td>\n",
       "      <td>fdr_bh</td>\n",
       "      <td>-0.483</td>\n",
       "    </tr>\n",
       "    <tr>\n",
       "      <th>2</th>\n",
       "      <td>Time</td>\n",
       "      <td>January</td>\n",
       "      <td>June</td>\n",
       "      <td>True</td>\n",
       "      <td>False</td>\n",
       "      <td>887.0</td>\n",
       "      <td>two-sided</td>\n",
       "      <td>0.840</td>\n",
       "      <td>0.840</td>\n",
       "      <td>fdr_bh</td>\n",
       "      <td>-0.170</td>\n",
       "    </tr>\n",
       "  </tbody>\n",
       "</table>\n",
       "</div>"
      ],
      "text/plain": [
       "  Contrast        A        B  Paired  Parametric  W-val alternative  p-unc  \\\n",
       "0     Time   August  January    True       False  716.0   two-sided  0.144   \n",
       "1     Time   August     June    True       False  564.0   two-sided  0.010   \n",
       "2     Time  January     June    True       False  887.0   two-sided  0.840   \n",
       "\n",
       "   p-corr p-adjust  hedges  \n",
       "0   0.216   fdr_bh  -0.328  \n",
       "1   0.030   fdr_bh  -0.483  \n",
       "2   0.840   fdr_bh  -0.170  "
      ]
     },
     "execution_count": 8,
     "metadata": {},
     "output_type": "execute_result"
    }
   ],
   "source": [
    "# FDR-corrected post hocs with Hedges'g effect size\n",
    "pg.pairwise_tests(data=df, dv='Scores', within='Time', subject='Subject', \n",
    "                   parametric=False, padjust='fdr_bh', effsize='hedges')"
   ]
  },
  {
   "cell_type": "markdown",
   "metadata": {},
   "source": [
    "## 8. Two-way mixed ANOVA"
   ]
  },
  {
   "cell_type": "code",
   "execution_count": 9,
   "metadata": {},
   "outputs": [
    {
     "data": {
      "text/html": [
       "<div>\n",
       "<style scoped>\n",
       "    .dataframe tbody tr th:only-of-type {\n",
       "        vertical-align: middle;\n",
       "    }\n",
       "\n",
       "    .dataframe tbody tr th {\n",
       "        vertical-align: top;\n",
       "    }\n",
       "\n",
       "    .dataframe thead th {\n",
       "        text-align: right;\n",
       "    }\n",
       "</style>\n",
       "<table border=\"1\" class=\"dataframe\">\n",
       "  <thead>\n",
       "    <tr style=\"text-align: right;\">\n",
       "      <th></th>\n",
       "      <th>Source</th>\n",
       "      <th>SS</th>\n",
       "      <th>DF1</th>\n",
       "      <th>DF2</th>\n",
       "      <th>MS</th>\n",
       "      <th>F</th>\n",
       "      <th>p-unc</th>\n",
       "      <th>np2</th>\n",
       "      <th>eps</th>\n",
       "    </tr>\n",
       "  </thead>\n",
       "  <tbody>\n",
       "    <tr>\n",
       "      <th>0</th>\n",
       "      <td>Group</td>\n",
       "      <td>5.460</td>\n",
       "      <td>1</td>\n",
       "      <td>58</td>\n",
       "      <td>5.460</td>\n",
       "      <td>5.052</td>\n",
       "      <td>0.028</td>\n",
       "      <td>0.080</td>\n",
       "      <td>NaN</td>\n",
       "    </tr>\n",
       "    <tr>\n",
       "      <th>1</th>\n",
       "      <td>Time</td>\n",
       "      <td>7.628</td>\n",
       "      <td>2</td>\n",
       "      <td>116</td>\n",
       "      <td>3.814</td>\n",
       "      <td>4.027</td>\n",
       "      <td>0.020</td>\n",
       "      <td>0.065</td>\n",
       "      <td>0.999</td>\n",
       "    </tr>\n",
       "    <tr>\n",
       "      <th>2</th>\n",
       "      <td>Interaction</td>\n",
       "      <td>5.167</td>\n",
       "      <td>2</td>\n",
       "      <td>116</td>\n",
       "      <td>2.584</td>\n",
       "      <td>2.728</td>\n",
       "      <td>0.070</td>\n",
       "      <td>0.045</td>\n",
       "      <td>NaN</td>\n",
       "    </tr>\n",
       "  </tbody>\n",
       "</table>\n",
       "</div>"
      ],
      "text/plain": [
       "        Source     SS  DF1  DF2     MS      F  p-unc    np2    eps\n",
       "0        Group  5.460    1   58  5.460  5.052  0.028  0.080    NaN\n",
       "1         Time  7.628    2  116  3.814  4.027  0.020  0.065  0.999\n",
       "2  Interaction  5.167    2  116  2.584  2.728  0.070  0.045    NaN"
      ]
     },
     "execution_count": 9,
     "metadata": {},
     "output_type": "execute_result"
    }
   ],
   "source": [
    "aov = pg.mixed_anova(data=df, dv='Scores', between='Group', within='Time',\n",
    "                       subject='Subject', correction=False)\n",
    "aov"
   ]
  },
  {
   "cell_type": "markdown",
   "metadata": {},
   "source": [
    "## 9. Pairwise correlations between columns of a dataframe\n",
    "\n",
    "See [04_Correlations.ipynb](04_Correlations.ipynb) for more examples."
   ]
  },
  {
   "cell_type": "code",
   "execution_count": 10,
   "metadata": {},
   "outputs": [
    {
     "data": {
      "text/html": [
       "<div>\n",
       "<style scoped>\n",
       "    .dataframe tbody tr th:only-of-type {\n",
       "        vertical-align: middle;\n",
       "    }\n",
       "\n",
       "    .dataframe tbody tr th {\n",
       "        vertical-align: top;\n",
       "    }\n",
       "\n",
       "    .dataframe thead th {\n",
       "        text-align: right;\n",
       "    }\n",
       "</style>\n",
       "<table border=\"1\" class=\"dataframe\">\n",
       "  <thead>\n",
       "    <tr style=\"text-align: right;\">\n",
       "      <th></th>\n",
       "      <th>X</th>\n",
       "      <th>Y</th>\n",
       "      <th>method</th>\n",
       "      <th>alternative</th>\n",
       "      <th>n</th>\n",
       "      <th>r</th>\n",
       "      <th>CI95%</th>\n",
       "      <th>p-unc</th>\n",
       "      <th>BF10</th>\n",
       "      <th>power</th>\n",
       "    </tr>\n",
       "  </thead>\n",
       "  <tbody>\n",
       "    <tr>\n",
       "      <th>0</th>\n",
       "      <td>X</td>\n",
       "      <td>Y</td>\n",
       "      <td>pearson</td>\n",
       "      <td>two-sided</td>\n",
       "      <td>30</td>\n",
       "      <td>0.366</td>\n",
       "      <td>[0.01, 0.64]</td>\n",
       "      <td>0.047</td>\n",
       "      <td>1.5</td>\n",
       "      <td>0.525</td>\n",
       "    </tr>\n",
       "    <tr>\n",
       "      <th>1</th>\n",
       "      <td>X</td>\n",
       "      <td>Z</td>\n",
       "      <td>pearson</td>\n",
       "      <td>two-sided</td>\n",
       "      <td>30</td>\n",
       "      <td>0.251</td>\n",
       "      <td>[-0.12, 0.56]</td>\n",
       "      <td>0.181</td>\n",
       "      <td>0.534</td>\n",
       "      <td>0.272</td>\n",
       "    </tr>\n",
       "    <tr>\n",
       "      <th>2</th>\n",
       "      <td>Y</td>\n",
       "      <td>Z</td>\n",
       "      <td>pearson</td>\n",
       "      <td>two-sided</td>\n",
       "      <td>30</td>\n",
       "      <td>0.020</td>\n",
       "      <td>[-0.34, 0.38]</td>\n",
       "      <td>0.916</td>\n",
       "      <td>0.228</td>\n",
       "      <td>0.051</td>\n",
       "    </tr>\n",
       "  </tbody>\n",
       "</table>\n",
       "</div>"
      ],
      "text/plain": [
       "   X  Y   method alternative   n      r          CI95%  p-unc   BF10  power\n",
       "0  X  Y  pearson   two-sided  30  0.366   [0.01, 0.64]  0.047    1.5  0.525\n",
       "1  X  Z  pearson   two-sided  30  0.251  [-0.12, 0.56]  0.181  0.534  0.272\n",
       "2  Y  Z  pearson   two-sided  30  0.020  [-0.34, 0.38]  0.916  0.228  0.051"
      ]
     },
     "execution_count": 10,
     "metadata": {},
     "output_type": "execute_result"
    }
   ],
   "source": [
    "np.random.seed(123)\n",
    "z = np.random.normal(5, 1, 30)\n",
    "data = pd.DataFrame({'X': x, 'Y': y, 'Z': z})\n",
    "\n",
    "# Pairwise correlations\n",
    "pg.pairwise_corr(data, columns=['X', 'Y', 'Z'], method='pearson')"
   ]
  },
  {
   "cell_type": "markdown",
   "metadata": {},
   "source": [
    "**Alternative, as a correlation matrix with p-values**"
   ]
  },
  {
   "cell_type": "code",
   "execution_count": 11,
   "metadata": {},
   "outputs": [
    {
     "name": "stderr",
     "output_type": "stream",
     "text": [
      "/Users/raphael/GitHub/pingouin/pingouin/correlation.py:1116: FutureWarning: DataFrame.applymap has been deprecated. Use DataFrame.map instead.\n",
      "  mat_upper = mat_upper.applymap(replace_pval)\n"
     ]
    },
    {
     "data": {
      "text/html": [
       "<div>\n",
       "<style scoped>\n",
       "    .dataframe tbody tr th:only-of-type {\n",
       "        vertical-align: middle;\n",
       "    }\n",
       "\n",
       "    .dataframe tbody tr th {\n",
       "        vertical-align: top;\n",
       "    }\n",
       "\n",
       "    .dataframe thead th {\n",
       "        text-align: right;\n",
       "    }\n",
       "</style>\n",
       "<table border=\"1\" class=\"dataframe\">\n",
       "  <thead>\n",
       "    <tr style=\"text-align: right;\">\n",
       "      <th></th>\n",
       "      <th>X</th>\n",
       "      <th>Y</th>\n",
       "      <th>Z</th>\n",
       "    </tr>\n",
       "  </thead>\n",
       "  <tbody>\n",
       "    <tr>\n",
       "      <th>X</th>\n",
       "      <td>-</td>\n",
       "      <td>***</td>\n",
       "      <td></td>\n",
       "    </tr>\n",
       "    <tr>\n",
       "      <th>Y</th>\n",
       "      <td>0.573</td>\n",
       "      <td>-</td>\n",
       "      <td></td>\n",
       "    </tr>\n",
       "    <tr>\n",
       "      <th>Z</th>\n",
       "      <td>0.168</td>\n",
       "      <td>0.021</td>\n",
       "      <td>-</td>\n",
       "    </tr>\n",
       "  </tbody>\n",
       "</table>\n",
       "</div>"
      ],
      "text/plain": [
       "       X      Y  Z\n",
       "X      -    ***   \n",
       "Y  0.573      -   \n",
       "Z  0.168  0.021  -"
      ]
     },
     "execution_count": 11,
     "metadata": {},
     "output_type": "execute_result"
    }
   ],
   "source": [
    "data.rcorr(method='spearman')"
   ]
  },
  {
   "cell_type": "markdown",
   "metadata": {},
   "source": [
    "## 10. Pairwise T-tests between columns of a dataframe"
   ]
  },
  {
   "cell_type": "code",
   "execution_count": 12,
   "metadata": {},
   "outputs": [
    {
     "name": "stderr",
     "output_type": "stream",
     "text": [
      "/Users/raphael/GitHub/pingouin/pingouin/pairwise.py:763: FutureWarning: DataFrame.applymap has been deprecated. Use DataFrame.map instead.\n",
      "  mat_upper = mat_upper.applymap(lambda x: ffp(x, precision=decimals))\n"
     ]
    },
    {
     "data": {
      "text/html": [
       "<div>\n",
       "<style scoped>\n",
       "    .dataframe tbody tr th:only-of-type {\n",
       "        vertical-align: middle;\n",
       "    }\n",
       "\n",
       "    .dataframe tbody tr th {\n",
       "        vertical-align: top;\n",
       "    }\n",
       "\n",
       "    .dataframe thead th {\n",
       "        text-align: right;\n",
       "    }\n",
       "</style>\n",
       "<table border=\"1\" class=\"dataframe\">\n",
       "  <thead>\n",
       "    <tr style=\"text-align: right;\">\n",
       "      <th></th>\n",
       "      <th>X</th>\n",
       "      <th>Y</th>\n",
       "      <th>Z</th>\n",
       "    </tr>\n",
       "  </thead>\n",
       "  <tbody>\n",
       "    <tr>\n",
       "      <th>X</th>\n",
       "      <td>-</td>\n",
       "      <td>0.226</td>\n",
       "      <td>0.165</td>\n",
       "    </tr>\n",
       "    <tr>\n",
       "      <th>Y</th>\n",
       "      <td>-1.238</td>\n",
       "      <td>-</td>\n",
       "      <td>0.658</td>\n",
       "    </tr>\n",
       "    <tr>\n",
       "      <th>Z</th>\n",
       "      <td>-1.424</td>\n",
       "      <td>-0.447</td>\n",
       "      <td>-</td>\n",
       "    </tr>\n",
       "  </tbody>\n",
       "</table>\n",
       "</div>"
      ],
      "text/plain": [
       "        X       Y      Z\n",
       "X       -   0.226  0.165\n",
       "Y  -1.238       -  0.658\n",
       "Z  -1.424  -0.447      -"
      ]
     },
     "execution_count": 12,
     "metadata": {},
     "output_type": "execute_result"
    }
   ],
   "source": [
    "data.ptests(paired=True, stars=False)"
   ]
  },
  {
   "cell_type": "markdown",
   "metadata": {},
   "source": [
    "## 11. Multiple linear regression"
   ]
  },
  {
   "cell_type": "code",
   "execution_count": 13,
   "metadata": {},
   "outputs": [
    {
     "data": {
      "text/html": [
       "<div>\n",
       "<style scoped>\n",
       "    .dataframe tbody tr th:only-of-type {\n",
       "        vertical-align: middle;\n",
       "    }\n",
       "\n",
       "    .dataframe tbody tr th {\n",
       "        vertical-align: top;\n",
       "    }\n",
       "\n",
       "    .dataframe thead th {\n",
       "        text-align: right;\n",
       "    }\n",
       "</style>\n",
       "<table border=\"1\" class=\"dataframe\">\n",
       "  <thead>\n",
       "    <tr style=\"text-align: right;\">\n",
       "      <th></th>\n",
       "      <th>names</th>\n",
       "      <th>coef</th>\n",
       "      <th>se</th>\n",
       "      <th>T</th>\n",
       "      <th>pval</th>\n",
       "      <th>r2</th>\n",
       "      <th>adj_r2</th>\n",
       "      <th>CI[2.5%]</th>\n",
       "      <th>CI[97.5%]</th>\n",
       "    </tr>\n",
       "  </thead>\n",
       "  <tbody>\n",
       "    <tr>\n",
       "      <th>0</th>\n",
       "      <td>Intercept</td>\n",
       "      <td>4.650</td>\n",
       "      <td>0.841</td>\n",
       "      <td>5.530</td>\n",
       "      <td>7.362e-06</td>\n",
       "      <td>0.139</td>\n",
       "      <td>0.076</td>\n",
       "      <td>2.925</td>\n",
       "      <td>6.376</td>\n",
       "    </tr>\n",
       "    <tr>\n",
       "      <th>1</th>\n",
       "      <td>X</td>\n",
       "      <td>0.143</td>\n",
       "      <td>0.068</td>\n",
       "      <td>2.089</td>\n",
       "      <td>4.630e-02</td>\n",
       "      <td>0.139</td>\n",
       "      <td>0.076</td>\n",
       "      <td>0.003</td>\n",
       "      <td>0.283</td>\n",
       "    </tr>\n",
       "    <tr>\n",
       "      <th>2</th>\n",
       "      <td>Z</td>\n",
       "      <td>-0.069</td>\n",
       "      <td>0.167</td>\n",
       "      <td>-0.416</td>\n",
       "      <td>6.809e-01</td>\n",
       "      <td>0.139</td>\n",
       "      <td>0.076</td>\n",
       "      <td>-0.412</td>\n",
       "      <td>0.273</td>\n",
       "    </tr>\n",
       "  </tbody>\n",
       "</table>\n",
       "</div>"
      ],
      "text/plain": [
       "       names   coef     se      T       pval     r2  adj_r2  CI[2.5%]  \\\n",
       "0  Intercept  4.650  0.841  5.530  7.362e-06  0.139   0.076     2.925   \n",
       "1          X  0.143  0.068  2.089  4.630e-02  0.139   0.076     0.003   \n",
       "2          Z -0.069  0.167 -0.416  6.809e-01  0.139   0.076    -0.412   \n",
       "\n",
       "   CI[97.5%]  \n",
       "0      6.376  \n",
       "1      0.283  \n",
       "2      0.273  "
      ]
     },
     "execution_count": 13,
     "metadata": {},
     "output_type": "execute_result"
    }
   ],
   "source": [
    "pg.linear_regression(data[['X', 'Z']], data['Y'])"
   ]
  },
  {
   "cell_type": "markdown",
   "metadata": {},
   "source": [
    "## 12. Mediation analysis"
   ]
  },
  {
   "cell_type": "code",
   "execution_count": 14,
   "metadata": {},
   "outputs": [
    {
     "data": {
      "text/html": [
       "<div>\n",
       "<style scoped>\n",
       "    .dataframe tbody tr th:only-of-type {\n",
       "        vertical-align: middle;\n",
       "    }\n",
       "\n",
       "    .dataframe tbody tr th {\n",
       "        vertical-align: top;\n",
       "    }\n",
       "\n",
       "    .dataframe thead th {\n",
       "        text-align: right;\n",
       "    }\n",
       "</style>\n",
       "<table border=\"1\" class=\"dataframe\">\n",
       "  <thead>\n",
       "    <tr style=\"text-align: right;\">\n",
       "      <th></th>\n",
       "      <th>path</th>\n",
       "      <th>coef</th>\n",
       "      <th>se</th>\n",
       "      <th>pval</th>\n",
       "      <th>CI[2.5%]</th>\n",
       "      <th>CI[97.5%]</th>\n",
       "      <th>sig</th>\n",
       "    </tr>\n",
       "  </thead>\n",
       "  <tbody>\n",
       "    <tr>\n",
       "      <th>0</th>\n",
       "      <td>Z ~ X</td>\n",
       "      <td>0.103</td>\n",
       "      <td>0.075</td>\n",
       "      <td>0.181</td>\n",
       "      <td>-0.051</td>\n",
       "      <td>0.256</td>\n",
       "      <td>No</td>\n",
       "    </tr>\n",
       "    <tr>\n",
       "      <th>1</th>\n",
       "      <td>Y ~ Z</td>\n",
       "      <td>0.018</td>\n",
       "      <td>0.171</td>\n",
       "      <td>0.916</td>\n",
       "      <td>-0.332</td>\n",
       "      <td>0.369</td>\n",
       "      <td>No</td>\n",
       "    </tr>\n",
       "    <tr>\n",
       "      <th>2</th>\n",
       "      <td>Total</td>\n",
       "      <td>0.136</td>\n",
       "      <td>0.065</td>\n",
       "      <td>0.047</td>\n",
       "      <td>0.002</td>\n",
       "      <td>0.269</td>\n",
       "      <td>Yes</td>\n",
       "    </tr>\n",
       "    <tr>\n",
       "      <th>3</th>\n",
       "      <td>Direct</td>\n",
       "      <td>0.143</td>\n",
       "      <td>0.068</td>\n",
       "      <td>0.046</td>\n",
       "      <td>0.003</td>\n",
       "      <td>0.283</td>\n",
       "      <td>Yes</td>\n",
       "    </tr>\n",
       "    <tr>\n",
       "      <th>4</th>\n",
       "      <td>Indirect</td>\n",
       "      <td>-0.007</td>\n",
       "      <td>0.025</td>\n",
       "      <td>0.898</td>\n",
       "      <td>-0.069</td>\n",
       "      <td>0.029</td>\n",
       "      <td>No</td>\n",
       "    </tr>\n",
       "  </tbody>\n",
       "</table>\n",
       "</div>"
      ],
      "text/plain": [
       "       path   coef     se   pval  CI[2.5%]  CI[97.5%]  sig\n",
       "0     Z ~ X  0.103  0.075  0.181    -0.051      0.256   No\n",
       "1     Y ~ Z  0.018  0.171  0.916    -0.332      0.369   No\n",
       "2     Total  0.136  0.065  0.047     0.002      0.269  Yes\n",
       "3    Direct  0.143  0.068  0.046     0.003      0.283  Yes\n",
       "4  Indirect -0.007  0.025  0.898    -0.069      0.029   No"
      ]
     },
     "execution_count": 14,
     "metadata": {},
     "output_type": "execute_result"
    }
   ],
   "source": [
    "pg.mediation_analysis(data=data, x='X', m='Z', y='Y', seed=42, n_boot=1000)"
   ]
  },
  {
   "cell_type": "markdown",
   "metadata": {},
   "source": [
    "## 13. Plot achieved power of a paired T-test\n",
    "\n",
    "Plot the curve of achieved power given the effect size (Cohen d) and the sample size of a paired T-test."
   ]
  },
  {
   "cell_type": "code",
   "execution_count": 15,
   "metadata": {},
   "outputs": [
    {
     "data": {
      "image/png": "[encoded data removed]",
      "text/plain": [
       "<Figure size 640x480 with 1 Axes>"
      ]
     },
     "metadata": {},
     "output_type": "display_data"
    }
   ],
   "source": [
    "import matplotlib.pyplot as plt\n",
    "import seaborn as sns\n",
    "sns.set(style='ticks', context='notebook', font_scale=1.2)\n",
    "\n",
    "d = 0.5  # Fixed effect size\n",
    "n = np.arange(5, 80, 5)  # Incrementing sample size\n",
    "\n",
    "# Compute the achieved power\n",
    "pwr = pg.power_ttest(d=d, n=n, contrast='paired')\n",
    "\n",
    "# Start the plot\n",
    "plt.plot(n, pwr, 'ko-.')\n",
    "plt.axhline(0.8, color='r', ls=':')\n",
    "plt.xlabel('Sample size')\n",
    "plt.ylabel('Power (1 - type II error)')\n",
    "plt.title('Achieved power of a paired T-test')\n",
    "sns.despine()"
   ]
  },
  {
   "cell_type": "markdown",
   "metadata": {},
   "source": [
    "## 14. Paired plot"
   ]
  },
  {
   "cell_type": "code",
   "execution_count": 16,
   "metadata": {},
   "outputs": [
    {
     "data": {
      "image/png": "[encoded data removed]",
      "text/plain": [
       "<Figure size 640x480 with 1 Axes>"
      ]
     },
     "metadata": {},
     "output_type": "display_data"
    }
   ],
   "source": [
    "df = pg.read_dataset('mixed_anova').query(\"Group == 'Meditation' and Time != 'January'\")\n",
    "ax = pg.plot_paired(data=df, dv='Scores', within='Time', subject='Subject')\n",
    "_ = ax.set_title(\"Effect of meditation on school performance\")"
   ]
  },
  {
   "cell_type": "markdown",
   "metadata": {},
   "source": [
    "## 15. Chi-squared test of independence"
   ]
  },
  {
   "cell_type": "code",
   "execution_count": 17,
   "metadata": {},
   "outputs": [
    {
     "data": {
      "text/html": [
       "<div>\n",
       "<style scoped>\n",
       "    .dataframe tbody tr th:only-of-type {\n",
       "        vertical-align: middle;\n",
       "    }\n",
       "\n",
       "    .dataframe tbody tr th {\n",
       "        vertical-align: top;\n",
       "    }\n",
       "\n",
       "    .dataframe thead th {\n",
       "        text-align: right;\n",
       "    }\n",
       "</style>\n",
       "<table border=\"1\" class=\"dataframe\">\n",
       "  <thead>\n",
       "    <tr style=\"text-align: right;\">\n",
       "      <th></th>\n",
       "      <th>test</th>\n",
       "      <th>lambda</th>\n",
       "      <th>chi2</th>\n",
       "      <th>dof</th>\n",
       "      <th>pval</th>\n",
       "      <th>cramer</th>\n",
       "      <th>power</th>\n",
       "    </tr>\n",
       "  </thead>\n",
       "  <tbody>\n",
       "    <tr>\n",
       "      <th>0</th>\n",
       "      <td>pearson</td>\n",
       "      <td>1.000</td>\n",
       "      <td>22.717</td>\n",
       "      <td>1.0</td>\n",
       "      <td>1.877e-06</td>\n",
       "      <td>0.274</td>\n",
       "      <td>0.997</td>\n",
       "    </tr>\n",
       "    <tr>\n",
       "      <th>1</th>\n",
       "      <td>cressie-read</td>\n",
       "      <td>0.667</td>\n",
       "      <td>22.931</td>\n",
       "      <td>1.0</td>\n",
       "      <td>1.679e-06</td>\n",
       "      <td>0.275</td>\n",
       "      <td>0.998</td>\n",
       "    </tr>\n",
       "    <tr>\n",
       "      <th>2</th>\n",
       "      <td>log-likelihood</td>\n",
       "      <td>0.000</td>\n",
       "      <td>23.557</td>\n",
       "      <td>1.0</td>\n",
       "      <td>1.212e-06</td>\n",
       "      <td>0.279</td>\n",
       "      <td>0.998</td>\n",
       "    </tr>\n",
       "    <tr>\n",
       "      <th>3</th>\n",
       "      <td>freeman-tukey</td>\n",
       "      <td>-0.500</td>\n",
       "      <td>24.220</td>\n",
       "      <td>1.0</td>\n",
       "      <td>8.595e-07</td>\n",
       "      <td>0.283</td>\n",
       "      <td>0.998</td>\n",
       "    </tr>\n",
       "    <tr>\n",
       "      <th>4</th>\n",
       "      <td>mod-log-likelihood</td>\n",
       "      <td>-1.000</td>\n",
       "      <td>25.071</td>\n",
       "      <td>1.0</td>\n",
       "      <td>5.526e-07</td>\n",
       "      <td>0.288</td>\n",
       "      <td>0.999</td>\n",
       "    </tr>\n",
       "    <tr>\n",
       "      <th>5</th>\n",
       "      <td>neyman</td>\n",
       "      <td>-2.000</td>\n",
       "      <td>27.458</td>\n",
       "      <td>1.0</td>\n",
       "      <td>1.605e-07</td>\n",
       "      <td>0.301</td>\n",
       "      <td>0.999</td>\n",
       "    </tr>\n",
       "  </tbody>\n",
       "</table>\n",
       "</div>"
      ],
      "text/plain": [
       "                 test  lambda    chi2  dof       pval  cramer  power\n",
       "0             pearson   1.000  22.717  1.0  1.877e-06   0.274  0.997\n",
       "1        cressie-read   0.667  22.931  1.0  1.679e-06   0.275  0.998\n",
       "2      log-likelihood   0.000  23.557  1.0  1.212e-06   0.279  0.998\n",
       "3       freeman-tukey  -0.500  24.220  1.0  8.595e-07   0.283  0.998\n",
       "4  mod-log-likelihood  -1.000  25.071  1.0  5.526e-07   0.288  0.999\n",
       "5              neyman  -2.000  27.458  1.0  1.605e-07   0.301  0.999"
      ]
     },
     "execution_count": 17,
     "metadata": {},
     "output_type": "execute_result"
    }
   ],
   "source": [
    "data = pg.read_dataset('chi2_independence')\n",
    "expected, observed, stats = pg.chi2_independence(data, x='sex', y='target')\n",
    "stats"
   ]
  }
 ],
 "metadata": {
  "hide_input": false,
  "kernelspec": {
   "display_name": "Python 3 (ipykernel)",
   "language": "python",
   "name": "python3"
  },
  "language_info": {
   "codemirror_mode": {
    "name": "ipython",
    "version": 3
   },
   "file_extension": ".py",
   "mimetype": "text/x-python",
   "name": "python",
   "nbconvert_exporter": "python",
   "pygments_lexer": "ipython3",
   "version": "3.9.6"
  },
  "toc": {
   "base_numbering": 1,
   "nav_menu": {},
   "number_sections": true,
   "sideBar": true,
   "skip_h1_title": false,
   "title_cell": "Table of Contents",
   "title_sidebar": "Contents",
   "toc_cell": false,
   "toc_position": {},
   "toc_section_display": true,
   "toc_window_display": false
  },
  "varInspector": {
   "cols": {
    "lenName": 16,
    "lenType": 16,
    "lenVar": 40
   },
   "kernels_config": {
    "python": {
     "delete_cmd_postfix": "",
     "delete_cmd_prefix": "del ",
     "library": "var_list.py",
     "varRefreshCmd": "print(var_dic_list())"
    },
    "r": {
     "delete_cmd_postfix": ") ",
     "delete_cmd_prefix": "rm(",
     "library": "var_list.r",
     "varRefreshCmd": "cat(var_dic_list()) "
    }
   },
   "types_to_exclude": [
    "module",
    "function",
    "builtin_function_or_method",
    "instance",
    "_Feature"
   ],
   "window_display": false
  }
 },
 "nbformat": 4,
 "nbformat_minor": 4
}
