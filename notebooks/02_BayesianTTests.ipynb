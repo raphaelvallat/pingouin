{
 "cells": [
  {
   "cell_type": "markdown",
   "metadata": {},
   "source": [
    "# T-Tests\n",
    "\n",
    "In this tutorial we will see how to compute a classical and Bayesian T-test in Pingouin using the [ttest](https://pingouin-stats.org/generated/pingouin.ttest.html#pingouin.ttest) function.\n",
    "\n",
    "The method used in Pingouin is derived from [Rouder et al. 2009](http://pcl.missouri.edu/sites/default/files/Rouder.bf_.pdf) and uses the recommended Cauchy prior distribution on effect size, centered around 0 and with a width (r) factor of 0.707. This default values applies well for most cases (at least for psychological studies with typically small to moderate effect sizes).\n",
    "\n",
    "In simple words, it means that you expect (i.e. your prior) that the effect size will most likely fall between -.707 and +.707. Note that this parameter can be adjusted by using the `r` optional argument function. Use smaller values if you expect smaller effect sizes, and larger values if you expect larger effect sizes.\n",
    "\n",
    "For the sake of this example, we will generate a fake drug / placebo study with 30 subjects in each group.\n",
    "We are interested in comparing the memory performances after administration of the drug or the placebo."
   ]
  },
  {
   "cell_type": "code",
   "execution_count": 1,
   "metadata": {},
   "outputs": [],
   "source": [
    "import numpy as np\n",
    "np.random.seed(123)\n",
    "nx, ny = 30, 30\n",
    "drug = np.random.normal(loc=1, size=nx)\n",
    "placebo = np.random.normal(loc=0, size=ny)"
   ]
  },
  {
   "cell_type": "markdown",
   "metadata": {},
   "source": [
    "Computing the (Bayesian) T-test can be done simply using:"
   ]
  },
  {
   "cell_type": "code",
   "execution_count": 2,
   "metadata": {},
   "outputs": [
    {
     "data": {
      "text/html": [
       "<div>\n",
       "<style scoped>\n",
       "    .dataframe tbody tr th:only-of-type {\n",
       "        vertical-align: middle;\n",
       "    }\n",
       "\n",
       "    .dataframe tbody tr th {\n",
       "        vertical-align: top;\n",
       "    }\n",
       "\n",
       "    .dataframe thead th {\n",
       "        text-align: right;\n",
       "    }\n",
       "</style>\n",
       "<table border=\"1\" class=\"dataframe\">\n",
       "  <thead>\n",
       "    <tr style=\"text-align: right;\">\n",
       "      <th></th>\n",
       "      <th>T</th>\n",
       "      <th>dof</th>\n",
       "      <th>alternative</th>\n",
       "      <th>p-val</th>\n",
       "      <th>CI95%</th>\n",
       "      <th>cohen-d</th>\n",
       "      <th>BF10</th>\n",
       "      <th>power</th>\n",
       "    </tr>\n",
       "  </thead>\n",
       "  <tbody>\n",
       "    <tr>\n",
       "      <th>T-test</th>\n",
       "      <td>2.890732</td>\n",
       "      <td>58</td>\n",
       "      <td>two-sided</td>\n",
       "      <td>0.0054</td>\n",
       "      <td>[0.28, 1.53]</td>\n",
       "      <td>0.746384</td>\n",
       "      <td>7.71</td>\n",
       "      <td>0.811273</td>\n",
       "    </tr>\n",
       "  </tbody>\n",
       "</table>\n",
       "</div>"
      ],
      "text/plain": [
       "               T  dof alternative   p-val         CI95%   cohen-d  BF10  \\\n",
       "T-test  2.890732   58   two-sided  0.0054  [0.28, 1.53]  0.746384  7.71   \n",
       "\n",
       "           power  \n",
       "T-test  0.811273  "
      ]
     },
     "execution_count": 2,
     "metadata": {},
     "output_type": "execute_result"
    }
   ],
   "source": [
    "from pingouin import ttest\n",
    "ttest(drug, placebo)"
   ]
  },
  {
   "cell_type": "markdown",
   "metadata": {},
   "source": [
    "The p-value is significantly inferior to 0.05, meaning that we can reject the null hypothesis that the two groups have similar performances. However, the p-value can simply be used to reject or accept the null hypothesis, given an arbitrary threshold. It does not allow to quantify *per se* the evidence in favor of the alternative hypothesis (which is that the groups have different performances).\n",
    "\n",
    "To do so, we need to rely on the Bayes Factor (`BF10`), first introduced by Jeffreys in 1961. The Bayes Factor is an odds ratio and has therefore an intuitive interpretation: in the example above, it means that the alternative hypothesis is 7.71 times more likely than the null hypothesis, given the data. To quantify the odds in favor of the null hypothesis (BF01), we can simply compute the reciprocal of the BF10:"
   ]
  },
  {
   "cell_type": "code",
   "execution_count": 3,
   "metadata": {},
   "outputs": [
    {
     "name": "stdout",
     "output_type": "stream",
     "text": [
      "BF01 = 0.13\n"
     ]
    }
   ],
   "source": [
    "print('BF01 = %.2f' % (1 / 7.71))"
   ]
  },
  {
   "cell_type": "markdown",
   "metadata": {},
   "source": [
    "As a rule of thumbs, Jeffreys (1961) recommended that a Bayes Factor greater than 3 be considered *“some evidence”*, greater than 10 *“strong evidence”*, and greater than 30 *“very strong evidence”*. In the example above, it means that there is a moderate to strong evidence that the drug actually works.\n",
    "\n",
    "***\n",
    "\n",
    "Note that the [ttest](https://pingouin-stats.org/generated/pingouin.ttest.html#pingouin.ttest) function has several optional arguments. For instance, if the data come from a single group (paired measurements), and if we have an a priori that the drug will indeed work, we could adjust the `alternative` and `paired` arguments:"
   ]
  },
  {
   "cell_type": "code",
   "execution_count": 4,
   "metadata": {},
   "outputs": [
    {
     "data": {
      "text/html": [
       "<div>\n",
       "<style scoped>\n",
       "    .dataframe tbody tr th:only-of-type {\n",
       "        vertical-align: middle;\n",
       "    }\n",
       "\n",
       "    .dataframe tbody tr th {\n",
       "        vertical-align: top;\n",
       "    }\n",
       "\n",
       "    .dataframe thead th {\n",
       "        text-align: right;\n",
       "    }\n",
       "</style>\n",
       "<table border=\"1\" class=\"dataframe\">\n",
       "  <thead>\n",
       "    <tr style=\"text-align: right;\">\n",
       "      <th></th>\n",
       "      <th>T</th>\n",
       "      <th>dof</th>\n",
       "      <th>alternative</th>\n",
       "      <th>p-val</th>\n",
       "      <th>CI95%</th>\n",
       "      <th>cohen-d</th>\n",
       "      <th>BF10</th>\n",
       "      <th>power</th>\n",
       "    </tr>\n",
       "  </thead>\n",
       "  <tbody>\n",
       "    <tr>\n",
       "      <th>T-test</th>\n",
       "      <td>2.716719</td>\n",
       "      <td>29</td>\n",
       "      <td>greater</td>\n",
       "      <td>0.0055</td>\n",
       "      <td>[0.34, inf]</td>\n",
       "      <td>0.746384</td>\n",
       "      <td>8.309</td>\n",
       "      <td>0.990495</td>\n",
       "    </tr>\n",
       "  </tbody>\n",
       "</table>\n",
       "</div>"
      ],
      "text/plain": [
       "               T  dof alternative   p-val        CI95%   cohen-d   BF10  \\\n",
       "T-test  2.716719   29     greater  0.0055  [0.34, inf]  0.746384  8.309   \n",
       "\n",
       "           power  \n",
       "T-test  0.990495  "
      ]
     },
     "execution_count": 4,
     "metadata": {},
     "output_type": "execute_result"
    }
   ],
   "source": [
    "ttest(drug, placebo, paired=True, alternative='greater')"
   ]
  }
 ],
 "metadata": {
  "kernelspec": {
   "display_name": "Python 3",
   "language": "python",
   "name": "python3"
  },
  "language_info": {
   "codemirror_mode": {
    "name": "ipython",
    "version": 3
   },
   "file_extension": ".py",
   "mimetype": "text/x-python",
   "name": "python",
   "nbconvert_exporter": "python",
   "pygments_lexer": "ipython3",
   "version": "3.8.3"
  }
 },
 "nbformat": 4,
 "nbformat_minor": 4
}
