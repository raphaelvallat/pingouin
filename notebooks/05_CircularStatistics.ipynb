{
 "cells": [
  {
   "cell_type": "markdown",
   "metadata": {},
   "source": [
    "# Circular statistics\n",
    "\n",
    "This notebook reproduces the examples of Berens (2009) implemented in the Matlab [CircStats](https://www.mathworks.com/matlabcentral/fileexchange/10676-circular-statistics-toolbox-directional-statistics) toolbox.\n",
    "\n",
    "## Part I | Artificial data"
   ]
  },
  {
   "cell_type": "code",
   "execution_count": 1,
   "metadata": {},
   "outputs": [],
   "source": [
    "import numpy as np\n",
    "import pandas as pd\n",
    "import pingouin as pg\n",
    "import seaborn as sns\n",
    "\n",
    "alpha_deg = np.array([13,15,21,26,28,30,35,36,41,60,92,103,\n",
    "                      165,199,210, 250,301,320,343,359])\n",
    "\n",
    "beta_deg = np.array([1,13,41,56,67,71,81,85,99,110,119,131,\n",
    "                     145,177,199,220,291,320,340,355])\n",
    "\n",
    "# Convert to radians\n",
    "alpha_rad = np.deg2rad(alpha_deg)\n",
    "beta_rad = np.deg2rad(beta_deg)"
   ]
  },
  {
   "cell_type": "markdown",
   "metadata": {},
   "source": [
    "### Descriptive statistics"
   ]
  },
  {
   "cell_type": "code",
   "execution_count": 2,
   "metadata": {},
   "outputs": [
    {
     "name": "stdout",
     "output_type": "stream",
     "text": [
      "(SciPy) Alpha mean: 0.41, beta mean: 1.27\n",
      "(Pingouin) Alpha mean: 0.41, beta mean: 1.27\n",
      "Alpha std: 1.26, beta std: 1.44\n"
     ]
    }
   ],
   "source": [
    "# With SciPy\n",
    "from scipy.stats import circmean, circstd\n",
    "print('(SciPy) Alpha mean: %.2f, beta mean: %.2f' % (circmean(alpha_rad), circmean(beta_rad)))\n",
    "print('(Pingouin) Alpha mean: %.2f, beta mean: %.2f' % (pg.circ_mean(alpha_rad), pg.circ_mean(beta_rad)))\n",
    "print('Alpha std: %.2f, beta std: %.2f' % (circstd(alpha_rad), circstd(beta_rad)))"
   ]
  },
  {
   "cell_type": "markdown",
   "metadata": {},
   "source": [
    "### Plot the circular mean and vector length on the unit circle"
   ]
  },
  {
   "cell_type": "code",
   "execution_count": 3,
   "metadata": {},
   "outputs": [
    {
     "data": {
      "image/png": "[encoded data removed]",
      "text/plain": [
       "<Figure size 288x288 with 1 Axes>"
      ]
     },
     "metadata": {},
     "output_type": "display_data"
    }
   ],
   "source": [
    "sns.set(font_scale=1.5, style='white')\n",
    "ax = pg.plot_circmean(alpha_rad)"
   ]
  },
  {
   "cell_type": "markdown",
   "metadata": {},
   "source": [
    "### Inferential statistics"
   ]
  },
  {
   "cell_type": "code",
   "execution_count": 4,
   "metadata": {},
   "outputs": [
    {
     "name": "stdout",
     "output_type": "stream",
     "text": [
      "Alpha:\tz = 4.06, p = 0.015\n",
      "Beta:\tz = 2.53, p = 0.078\n"
     ]
    }
   ],
   "source": [
    "# Rayleigh test for uniformity\n",
    "print('Alpha:\\tz = %.2f, p = %.3f' % pg.circ_rayleigh(alpha_rad))\n",
    "print('Beta:\\tz = %.2f, p = %.3f' % pg.circ_rayleigh(beta_rad))"
   ]
  },
  {
   "cell_type": "markdown",
   "metadata": {},
   "source": [
    "### Correlations"
   ]
  },
  {
   "cell_type": "code",
   "execution_count": 5,
   "metadata": {},
   "outputs": [
    {
     "name": "stdout",
     "output_type": "stream",
     "text": [
      "Circular-circular correlation:\tr = 0.67, p = 0.007\n",
      "Circular-linear correlation:\tr = 0.64, p = 0.017\n"
     ]
    }
   ],
   "source": [
    "# Circular-circular correlations of alpha and beta\n",
    "print('Circular-circular correlation:\\tr = %.2f, p = %.3f' % pg.circ_corrcc(alpha_rad, beta_rad))\n",
    "\n",
    "# Circular-linear correlation of alpha with range(20)\n",
    "print('Circular-linear correlation:\\tr = %.2f, p = %.3f' % pg.circ_corrcl(alpha_rad, np.arange(alpha_rad.size)))"
   ]
  },
  {
   "cell_type": "markdown",
   "metadata": {},
   "source": [
    "## Part II | Neuron firing\n",
    "\n",
    "The dataset provides the orientation tuning properties of three neurons recorded from the primary visual cortex of awake macaques. The number of action potentials is modulated by the orientation of a visual stimulus.  The main variables are (1) the stimulus orientations (spaced 22.5 degrees apart) and (2) the number of spikes fired in response to each orientation of the stimulus."
   ]
  },
  {
   "cell_type": "code",
   "execution_count": 6,
   "metadata": {},
   "outputs": [
    {
     "data": {
      "text/html": [
       "<div>\n",
       "<style scoped>\n",
       "    .dataframe tbody tr th:only-of-type {\n",
       "        vertical-align: middle;\n",
       "    }\n",
       "\n",
       "    .dataframe tbody tr th {\n",
       "        vertical-align: top;\n",
       "    }\n",
       "\n",
       "    .dataframe thead th {\n",
       "        text-align: right;\n",
       "    }\n",
       "</style>\n",
       "<table border=\"1\" class=\"dataframe\">\n",
       "  <thead>\n",
       "    <tr style=\"text-align: right;\">\n",
       "      <th></th>\n",
       "      <th>Orientation</th>\n",
       "      <th>N1Spikes</th>\n",
       "      <th>N2Spikes</th>\n",
       "      <th>N3Spikes</th>\n",
       "    </tr>\n",
       "  </thead>\n",
       "  <tbody>\n",
       "    <tr>\n",
       "      <th>0</th>\n",
       "      <td>0.0</td>\n",
       "      <td>63</td>\n",
       "      <td>25</td>\n",
       "      <td>10</td>\n",
       "    </tr>\n",
       "    <tr>\n",
       "      <th>1</th>\n",
       "      <td>22.5</td>\n",
       "      <td>66</td>\n",
       "      <td>15</td>\n",
       "      <td>5</td>\n",
       "    </tr>\n",
       "    <tr>\n",
       "      <th>2</th>\n",
       "      <td>45.0</td>\n",
       "      <td>79</td>\n",
       "      <td>12</td>\n",
       "      <td>5</td>\n",
       "    </tr>\n",
       "    <tr>\n",
       "      <th>3</th>\n",
       "      <td>67.5</td>\n",
       "      <td>171</td>\n",
       "      <td>2</td>\n",
       "      <td>0</td>\n",
       "    </tr>\n",
       "    <tr>\n",
       "      <th>4</th>\n",
       "      <td>90.0</td>\n",
       "      <td>101</td>\n",
       "      <td>12</td>\n",
       "      <td>2</td>\n",
       "    </tr>\n",
       "  </tbody>\n",
       "</table>\n",
       "</div>"
      ],
      "text/plain": [
       "   Orientation  N1Spikes  N2Spikes  N3Spikes\n",
       "0          0.0        63        25        10\n",
       "1         22.5        66        15         5\n",
       "2         45.0        79        12         5\n",
       "3         67.5       171         2         0\n",
       "4         90.0       101        12         2"
      ]
     },
     "execution_count": 6,
     "metadata": {},
     "output_type": "execute_result"
    }
   ],
   "source": [
    "from pingouin import read_dataset\n",
    "\n",
    "# Load Berens (2009) neuron dataset\n",
    "df = read_dataset('circular')\n",
    "\n",
    "df.head()"
   ]
  },
  {
   "cell_type": "markdown",
   "metadata": {},
   "source": [
    "### Descriptive statistics\n",
    "\n",
    "Warning: the scipy.stats circular functions do not accept binned angle data."
   ]
  },
  {
   "cell_type": "code",
   "execution_count": 7,
   "metadata": {},
   "outputs": [
    {
     "name": "stdout",
     "output_type": "stream",
     "text": [
      "Circular mean:\t2.36\n"
     ]
    }
   ],
   "source": [
    "# Convert the orientation to radians.\n",
    "ori = pg.circ_axial(np.deg2rad(df['Orientation'].to_numpy()), 2)\n",
    "spacing = np.diff(ori)[0]\n",
    "\n",
    "# We will only focus on the first neuron.\n",
    "spk = df['N1Spikes'].to_numpy()\n",
    "\n",
    "# Circular mean angle\n",
    "print('Circular mean:\\t%.2f' % pg.circ_mean(ori, spk))"
   ]
  },
  {
   "cell_type": "markdown",
   "metadata": {},
   "source": [
    "### Inferential statistics"
   ]
  },
  {
   "cell_type": "code",
   "execution_count": 8,
   "metadata": {},
   "outputs": [
    {
     "name": "stdout",
     "output_type": "stream",
     "text": [
      "z = 42.83, p = 0.000\n"
     ]
    }
   ],
   "source": [
    "z, pval = pg.circ_rayleigh(ori, spk, spacing)\n",
    "print('z = %.2f, p = %.3f' % (z, pval))"
   ]
  }
 ],
 "metadata": {
  "kernelspec": {
   "display_name": "Python 3",
   "language": "python",
   "name": "python3"
  },
  "language_info": {
   "codemirror_mode": {
    "name": "ipython",
    "version": 3
   },
   "file_extension": ".py",
   "mimetype": "text/x-python",
   "name": "python",
   "nbconvert_exporter": "python",
   "pygments_lexer": "ipython3",
   "version": "3.8.3"
  }
 },
 "nbformat": 4,
 "nbformat_minor": 4
}
